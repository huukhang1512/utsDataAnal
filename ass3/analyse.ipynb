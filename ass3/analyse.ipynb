{
 "cells": [
  {
   "cell_type": "code",
   "execution_count": 1,
   "metadata": {},
   "outputs": [],
   "source": [
    "import pandas as pd\n",
    "import numpy as np\n",
    "import matplotlib as plt"
   ]
  },
  {
   "cell_type": "code",
   "execution_count": 2,
   "metadata": {},
   "outputs": [],
   "source": [
    "DATAFILE = \"./dataset/weather_data.csv\"\n",
    "UNKNOWN_DATA = \"./dataset/unknown_data.csv\"\n",
    "trainingDataset = pd.read_csv(DATAFILE)\n",
    "unknownDataset =pd.read_csv(UNKNOWN_DATA)\n"
   ]
  },
  {
   "cell_type": "code",
   "execution_count": 3,
   "metadata": {},
   "outputs": [
    {
     "data": {
      "text/html": [
       "<div>\n",
       "<style scoped>\n",
       "    .dataframe tbody tr th:only-of-type {\n",
       "        vertical-align: middle;\n",
       "    }\n",
       "\n",
       "    .dataframe tbody tr th {\n",
       "        vertical-align: top;\n",
       "    }\n",
       "\n",
       "    .dataframe thead th {\n",
       "        text-align: right;\n",
       "    }\n",
       "</style>\n",
       "<table border=\"1\" class=\"dataframe\">\n",
       "  <thead>\n",
       "    <tr style=\"text-align: right;\">\n",
       "      <th></th>\n",
       "      <th>row ID</th>\n",
       "      <th>Location</th>\n",
       "      <th>MinTemp</th>\n",
       "      <th>MaxTemp</th>\n",
       "      <th>Rainfall</th>\n",
       "      <th>Evaporation</th>\n",
       "      <th>Sunshine</th>\n",
       "      <th>WindGustDir</th>\n",
       "      <th>WindGustSpeed</th>\n",
       "      <th>WindDir9am</th>\n",
       "      <th>...</th>\n",
       "      <th>Humidity9am</th>\n",
       "      <th>Humidity3pm</th>\n",
       "      <th>Pressure9am</th>\n",
       "      <th>Pressure3pm</th>\n",
       "      <th>Cloud9am</th>\n",
       "      <th>Cloud3pm</th>\n",
       "      <th>Temp9am</th>\n",
       "      <th>Temp3pm</th>\n",
       "      <th>RainToday</th>\n",
       "      <th>RainTomorrow</th>\n",
       "    </tr>\n",
       "  </thead>\n",
       "  <tbody>\n",
       "    <tr>\n",
       "      <th>0</th>\n",
       "      <td>Row0</td>\n",
       "      <td>Albury</td>\n",
       "      <td>13.4</td>\n",
       "      <td>22.9</td>\n",
       "      <td>0.6</td>\n",
       "      <td>NaN</td>\n",
       "      <td>NaN</td>\n",
       "      <td>W</td>\n",
       "      <td>44.0</td>\n",
       "      <td>W</td>\n",
       "      <td>...</td>\n",
       "      <td>71.0</td>\n",
       "      <td>22.0</td>\n",
       "      <td>1007.7</td>\n",
       "      <td>1007.1</td>\n",
       "      <td>8.0</td>\n",
       "      <td>NaN</td>\n",
       "      <td>16.9</td>\n",
       "      <td>21.8</td>\n",
       "      <td>No</td>\n",
       "      <td>0</td>\n",
       "    </tr>\n",
       "    <tr>\n",
       "      <th>1</th>\n",
       "      <td>Row1</td>\n",
       "      <td>Albury</td>\n",
       "      <td>7.4</td>\n",
       "      <td>25.1</td>\n",
       "      <td>0.0</td>\n",
       "      <td>NaN</td>\n",
       "      <td>NaN</td>\n",
       "      <td>WNW</td>\n",
       "      <td>44.0</td>\n",
       "      <td>NNW</td>\n",
       "      <td>...</td>\n",
       "      <td>44.0</td>\n",
       "      <td>25.0</td>\n",
       "      <td>1010.6</td>\n",
       "      <td>1007.8</td>\n",
       "      <td>NaN</td>\n",
       "      <td>NaN</td>\n",
       "      <td>17.2</td>\n",
       "      <td>24.3</td>\n",
       "      <td>No</td>\n",
       "      <td>0</td>\n",
       "    </tr>\n",
       "    <tr>\n",
       "      <th>2</th>\n",
       "      <td>Row2</td>\n",
       "      <td>Albury</td>\n",
       "      <td>17.5</td>\n",
       "      <td>32.3</td>\n",
       "      <td>1.0</td>\n",
       "      <td>NaN</td>\n",
       "      <td>NaN</td>\n",
       "      <td>W</td>\n",
       "      <td>41.0</td>\n",
       "      <td>ENE</td>\n",
       "      <td>...</td>\n",
       "      <td>82.0</td>\n",
       "      <td>33.0</td>\n",
       "      <td>1010.8</td>\n",
       "      <td>1006.0</td>\n",
       "      <td>7.0</td>\n",
       "      <td>8.0</td>\n",
       "      <td>17.8</td>\n",
       "      <td>29.7</td>\n",
       "      <td>No</td>\n",
       "      <td>0</td>\n",
       "    </tr>\n",
       "    <tr>\n",
       "      <th>3</th>\n",
       "      <td>Row3</td>\n",
       "      <td>Albury</td>\n",
       "      <td>14.6</td>\n",
       "      <td>29.7</td>\n",
       "      <td>0.2</td>\n",
       "      <td>NaN</td>\n",
       "      <td>NaN</td>\n",
       "      <td>WNW</td>\n",
       "      <td>56.0</td>\n",
       "      <td>W</td>\n",
       "      <td>...</td>\n",
       "      <td>55.0</td>\n",
       "      <td>23.0</td>\n",
       "      <td>1009.2</td>\n",
       "      <td>1005.4</td>\n",
       "      <td>NaN</td>\n",
       "      <td>NaN</td>\n",
       "      <td>20.6</td>\n",
       "      <td>28.9</td>\n",
       "      <td>No</td>\n",
       "      <td>0</td>\n",
       "    </tr>\n",
       "    <tr>\n",
       "      <th>4</th>\n",
       "      <td>Row4</td>\n",
       "      <td>Albury</td>\n",
       "      <td>7.7</td>\n",
       "      <td>26.7</td>\n",
       "      <td>0.0</td>\n",
       "      <td>NaN</td>\n",
       "      <td>NaN</td>\n",
       "      <td>W</td>\n",
       "      <td>35.0</td>\n",
       "      <td>SSE</td>\n",
       "      <td>...</td>\n",
       "      <td>48.0</td>\n",
       "      <td>19.0</td>\n",
       "      <td>1013.4</td>\n",
       "      <td>1010.1</td>\n",
       "      <td>NaN</td>\n",
       "      <td>NaN</td>\n",
       "      <td>16.3</td>\n",
       "      <td>25.5</td>\n",
       "      <td>No</td>\n",
       "      <td>0</td>\n",
       "    </tr>\n",
       "  </tbody>\n",
       "</table>\n",
       "<p>5 rows × 23 columns</p>\n",
       "</div>"
      ],
      "text/plain": [
       "  row ID Location  MinTemp  MaxTemp  Rainfall  Evaporation  Sunshine  \\\n",
       "0   Row0   Albury     13.4     22.9       0.6          NaN       NaN   \n",
       "1   Row1   Albury      7.4     25.1       0.0          NaN       NaN   \n",
       "2   Row2   Albury     17.5     32.3       1.0          NaN       NaN   \n",
       "3   Row3   Albury     14.6     29.7       0.2          NaN       NaN   \n",
       "4   Row4   Albury      7.7     26.7       0.0          NaN       NaN   \n",
       "\n",
       "  WindGustDir  WindGustSpeed WindDir9am  ... Humidity9am  Humidity3pm  \\\n",
       "0           W           44.0          W  ...        71.0         22.0   \n",
       "1         WNW           44.0        NNW  ...        44.0         25.0   \n",
       "2           W           41.0        ENE  ...        82.0         33.0   \n",
       "3         WNW           56.0          W  ...        55.0         23.0   \n",
       "4           W           35.0        SSE  ...        48.0         19.0   \n",
       "\n",
       "   Pressure9am  Pressure3pm  Cloud9am  Cloud3pm  Temp9am  Temp3pm  RainToday  \\\n",
       "0       1007.7       1007.1       8.0       NaN     16.9     21.8         No   \n",
       "1       1010.6       1007.8       NaN       NaN     17.2     24.3         No   \n",
       "2       1010.8       1006.0       7.0       8.0     17.8     29.7         No   \n",
       "3       1009.2       1005.4       NaN       NaN     20.6     28.9         No   \n",
       "4       1013.4       1010.1       NaN       NaN     16.3     25.5         No   \n",
       "\n",
       "   RainTomorrow  \n",
       "0             0  \n",
       "1             0  \n",
       "2             0  \n",
       "3             0  \n",
       "4             0  \n",
       "\n",
       "[5 rows x 23 columns]"
      ]
     },
     "execution_count": 3,
     "metadata": {},
     "output_type": "execute_result"
    }
   ],
   "source": [
    "trainingDataset.head()"
   ]
  },
  {
   "cell_type": "code",
   "execution_count": 4,
   "metadata": {},
   "outputs": [
    {
     "data": {
      "text/plain": [
       "(99516, 23)"
      ]
     },
     "execution_count": 4,
     "metadata": {},
     "output_type": "execute_result"
    }
   ],
   "source": [
    "trainingDataset.shape"
   ]
  },
  {
   "cell_type": "code",
   "execution_count": 5,
   "metadata": {},
   "outputs": [
    {
     "data": {
      "text/plain": [
       "(42677, 22)"
      ]
     },
     "execution_count": 5,
     "metadata": {},
     "output_type": "execute_result"
    }
   ],
   "source": [
    "unknownDataset.shape"
   ]
  },
  {
   "cell_type": "code",
   "execution_count": 6,
   "metadata": {},
   "outputs": [
    {
     "data": {
      "text/html": [
       "<div>\n",
       "<style scoped>\n",
       "    .dataframe tbody tr th:only-of-type {\n",
       "        vertical-align: middle;\n",
       "    }\n",
       "\n",
       "    .dataframe tbody tr th {\n",
       "        vertical-align: top;\n",
       "    }\n",
       "\n",
       "    .dataframe thead th {\n",
       "        text-align: right;\n",
       "    }\n",
       "</style>\n",
       "<table border=\"1\" class=\"dataframe\">\n",
       "  <thead>\n",
       "    <tr style=\"text-align: right;\">\n",
       "      <th></th>\n",
       "      <th>MinTemp</th>\n",
       "      <th>MaxTemp</th>\n",
       "      <th>Rainfall</th>\n",
       "      <th>Evaporation</th>\n",
       "      <th>Sunshine</th>\n",
       "      <th>WindGustSpeed</th>\n",
       "      <th>WindSpeed9am</th>\n",
       "      <th>WindSpeed3pm</th>\n",
       "      <th>Humidity9am</th>\n",
       "      <th>Humidity3pm</th>\n",
       "      <th>Pressure9am</th>\n",
       "      <th>Pressure3pm</th>\n",
       "      <th>Cloud9am</th>\n",
       "      <th>Cloud3pm</th>\n",
       "      <th>Temp9am</th>\n",
       "      <th>Temp3pm</th>\n",
       "      <th>RainTomorrow</th>\n",
       "    </tr>\n",
       "  </thead>\n",
       "  <tbody>\n",
       "    <tr>\n",
       "      <th>count</th>\n",
       "      <td>99073.000000</td>\n",
       "      <td>99286.000000</td>\n",
       "      <td>98537.000000</td>\n",
       "      <td>56985.00000</td>\n",
       "      <td>52199.000000</td>\n",
       "      <td>93036.000000</td>\n",
       "      <td>98581.000000</td>\n",
       "      <td>97681.000000</td>\n",
       "      <td>98283.000000</td>\n",
       "      <td>97010.000000</td>\n",
       "      <td>89768.000000</td>\n",
       "      <td>89780.000000</td>\n",
       "      <td>61944.000000</td>\n",
       "      <td>59514.000000</td>\n",
       "      <td>98902.000000</td>\n",
       "      <td>97612.000000</td>\n",
       "      <td>99516.000000</td>\n",
       "    </tr>\n",
       "    <tr>\n",
       "      <th>mean</th>\n",
       "      <td>12.176266</td>\n",
       "      <td>23.218513</td>\n",
       "      <td>2.353024</td>\n",
       "      <td>5.46132</td>\n",
       "      <td>7.615090</td>\n",
       "      <td>39.976966</td>\n",
       "      <td>14.004849</td>\n",
       "      <td>18.650464</td>\n",
       "      <td>68.866376</td>\n",
       "      <td>51.433296</td>\n",
       "      <td>1017.684638</td>\n",
       "      <td>1015.286204</td>\n",
       "      <td>4.447985</td>\n",
       "      <td>4.519122</td>\n",
       "      <td>16.970041</td>\n",
       "      <td>21.681340</td>\n",
       "      <td>0.224677</td>\n",
       "    </tr>\n",
       "    <tr>\n",
       "      <th>std</th>\n",
       "      <td>6.390882</td>\n",
       "      <td>7.115072</td>\n",
       "      <td>8.487866</td>\n",
       "      <td>4.16249</td>\n",
       "      <td>3.783008</td>\n",
       "      <td>13.581524</td>\n",
       "      <td>8.902323</td>\n",
       "      <td>8.801827</td>\n",
       "      <td>19.074951</td>\n",
       "      <td>20.777616</td>\n",
       "      <td>7.110166</td>\n",
       "      <td>7.045189</td>\n",
       "      <td>2.886580</td>\n",
       "      <td>2.716618</td>\n",
       "      <td>6.488961</td>\n",
       "      <td>6.931681</td>\n",
       "      <td>0.417372</td>\n",
       "    </tr>\n",
       "    <tr>\n",
       "      <th>min</th>\n",
       "      <td>-8.500000</td>\n",
       "      <td>-4.100000</td>\n",
       "      <td>0.000000</td>\n",
       "      <td>0.00000</td>\n",
       "      <td>0.000000</td>\n",
       "      <td>6.000000</td>\n",
       "      <td>0.000000</td>\n",
       "      <td>0.000000</td>\n",
       "      <td>0.000000</td>\n",
       "      <td>0.000000</td>\n",
       "      <td>980.500000</td>\n",
       "      <td>978.200000</td>\n",
       "      <td>0.000000</td>\n",
       "      <td>0.000000</td>\n",
       "      <td>-7.000000</td>\n",
       "      <td>-5.100000</td>\n",
       "      <td>0.000000</td>\n",
       "    </tr>\n",
       "    <tr>\n",
       "      <th>25%</th>\n",
       "      <td>7.600000</td>\n",
       "      <td>17.900000</td>\n",
       "      <td>0.000000</td>\n",
       "      <td>2.60000</td>\n",
       "      <td>4.800000</td>\n",
       "      <td>31.000000</td>\n",
       "      <td>7.000000</td>\n",
       "      <td>13.000000</td>\n",
       "      <td>57.000000</td>\n",
       "      <td>37.000000</td>\n",
       "      <td>1013.000000</td>\n",
       "      <td>1010.500000</td>\n",
       "      <td>1.000000</td>\n",
       "      <td>2.000000</td>\n",
       "      <td>12.300000</td>\n",
       "      <td>16.600000</td>\n",
       "      <td>0.000000</td>\n",
       "    </tr>\n",
       "    <tr>\n",
       "      <th>50%</th>\n",
       "      <td>12.000000</td>\n",
       "      <td>22.600000</td>\n",
       "      <td>0.000000</td>\n",
       "      <td>4.80000</td>\n",
       "      <td>8.400000</td>\n",
       "      <td>39.000000</td>\n",
       "      <td>13.000000</td>\n",
       "      <td>19.000000</td>\n",
       "      <td>70.000000</td>\n",
       "      <td>52.000000</td>\n",
       "      <td>1017.700000</td>\n",
       "      <td>1015.300000</td>\n",
       "      <td>5.000000</td>\n",
       "      <td>5.000000</td>\n",
       "      <td>16.700000</td>\n",
       "      <td>21.100000</td>\n",
       "      <td>0.000000</td>\n",
       "    </tr>\n",
       "    <tr>\n",
       "      <th>75%</th>\n",
       "      <td>16.800000</td>\n",
       "      <td>28.200000</td>\n",
       "      <td>0.800000</td>\n",
       "      <td>7.40000</td>\n",
       "      <td>10.600000</td>\n",
       "      <td>48.000000</td>\n",
       "      <td>19.000000</td>\n",
       "      <td>24.000000</td>\n",
       "      <td>83.000000</td>\n",
       "      <td>65.000000</td>\n",
       "      <td>1022.400000</td>\n",
       "      <td>1020.000000</td>\n",
       "      <td>7.000000</td>\n",
       "      <td>7.000000</td>\n",
       "      <td>21.500000</td>\n",
       "      <td>26.400000</td>\n",
       "      <td>0.000000</td>\n",
       "    </tr>\n",
       "    <tr>\n",
       "      <th>max</th>\n",
       "      <td>33.900000</td>\n",
       "      <td>48.100000</td>\n",
       "      <td>371.000000</td>\n",
       "      <td>86.20000</td>\n",
       "      <td>14.500000</td>\n",
       "      <td>135.000000</td>\n",
       "      <td>130.000000</td>\n",
       "      <td>87.000000</td>\n",
       "      <td>100.000000</td>\n",
       "      <td>100.000000</td>\n",
       "      <td>1041.000000</td>\n",
       "      <td>1039.600000</td>\n",
       "      <td>9.000000</td>\n",
       "      <td>9.000000</td>\n",
       "      <td>40.200000</td>\n",
       "      <td>46.700000</td>\n",
       "      <td>1.000000</td>\n",
       "    </tr>\n",
       "  </tbody>\n",
       "</table>\n",
       "</div>"
      ],
      "text/plain": [
       "            MinTemp       MaxTemp      Rainfall  Evaporation      Sunshine  \\\n",
       "count  99073.000000  99286.000000  98537.000000  56985.00000  52199.000000   \n",
       "mean      12.176266     23.218513      2.353024      5.46132      7.615090   \n",
       "std        6.390882      7.115072      8.487866      4.16249      3.783008   \n",
       "min       -8.500000     -4.100000      0.000000      0.00000      0.000000   \n",
       "25%        7.600000     17.900000      0.000000      2.60000      4.800000   \n",
       "50%       12.000000     22.600000      0.000000      4.80000      8.400000   \n",
       "75%       16.800000     28.200000      0.800000      7.40000     10.600000   \n",
       "max       33.900000     48.100000    371.000000     86.20000     14.500000   \n",
       "\n",
       "       WindGustSpeed  WindSpeed9am  WindSpeed3pm   Humidity9am   Humidity3pm  \\\n",
       "count   93036.000000  98581.000000  97681.000000  98283.000000  97010.000000   \n",
       "mean       39.976966     14.004849     18.650464     68.866376     51.433296   \n",
       "std        13.581524      8.902323      8.801827     19.074951     20.777616   \n",
       "min         6.000000      0.000000      0.000000      0.000000      0.000000   \n",
       "25%        31.000000      7.000000     13.000000     57.000000     37.000000   \n",
       "50%        39.000000     13.000000     19.000000     70.000000     52.000000   \n",
       "75%        48.000000     19.000000     24.000000     83.000000     65.000000   \n",
       "max       135.000000    130.000000     87.000000    100.000000    100.000000   \n",
       "\n",
       "        Pressure9am   Pressure3pm      Cloud9am      Cloud3pm       Temp9am  \\\n",
       "count  89768.000000  89780.000000  61944.000000  59514.000000  98902.000000   \n",
       "mean    1017.684638   1015.286204      4.447985      4.519122     16.970041   \n",
       "std        7.110166      7.045189      2.886580      2.716618      6.488961   \n",
       "min      980.500000    978.200000      0.000000      0.000000     -7.000000   \n",
       "25%     1013.000000   1010.500000      1.000000      2.000000     12.300000   \n",
       "50%     1017.700000   1015.300000      5.000000      5.000000     16.700000   \n",
       "75%     1022.400000   1020.000000      7.000000      7.000000     21.500000   \n",
       "max     1041.000000   1039.600000      9.000000      9.000000     40.200000   \n",
       "\n",
       "            Temp3pm  RainTomorrow  \n",
       "count  97612.000000  99516.000000  \n",
       "mean      21.681340      0.224677  \n",
       "std        6.931681      0.417372  \n",
       "min       -5.100000      0.000000  \n",
       "25%       16.600000      0.000000  \n",
       "50%       21.100000      0.000000  \n",
       "75%       26.400000      0.000000  \n",
       "max       46.700000      1.000000  "
      ]
     },
     "execution_count": 6,
     "metadata": {},
     "output_type": "execute_result"
    }
   ],
   "source": [
    "trainingDataset.describe()"
   ]
  },
  {
   "cell_type": "code",
   "execution_count": 7,
   "metadata": {},
   "outputs": [
    {
     "data": {
      "text/plain": [
       "Sunshine         52199\n",
       "Evaporation      56985\n",
       "Cloud3pm         59514\n",
       "Cloud9am         61944\n",
       "Pressure9am      89768\n",
       "Pressure3pm      89780\n",
       "WindDir9am       92510\n",
       "WindGustDir      92995\n",
       "WindGustSpeed    93036\n",
       "WindDir3pm       96868\n",
       "Humidity3pm      97010\n",
       "Temp3pm          97612\n",
       "WindSpeed3pm     97681\n",
       "Humidity9am      98283\n",
       "Rainfall         98537\n",
       "RainToday        98537\n",
       "WindSpeed9am     98581\n",
       "Temp9am          98902\n",
       "MinTemp          99073\n",
       "MaxTemp          99286\n",
       "row ID           99516\n",
       "Location         99516\n",
       "RainTomorrow     99516\n",
       "dtype: int64"
      ]
     },
     "execution_count": 7,
     "metadata": {},
     "output_type": "execute_result"
    }
   ],
   "source": [
    "trainingDataset.count().sort_values()"
   ]
  },
  {
   "cell_type": "markdown",
   "metadata": {},
   "source": [
    "## First, the RainToday attribute is an binary value where it only store Yes/No for answer. So I will manually binarise the RainToday attribute using replace() function in pd"
   ]
  },
  {
   "cell_type": "markdown",
   "metadata": {},
   "source": [
    "## Drop these columns (Sunshine, Evaporation, Cloud3pm/9am) as they have to much NA value"
   ]
  },
  {
   "cell_type": "code",
   "execution_count": 8,
   "metadata": {},
   "outputs": [
    {
     "name": "stdout",
     "output_type": "stream",
     "text": [
      "(99516, 18)\n",
      "(42677, 18)\n"
     ]
    }
   ],
   "source": [
    "trainingDataset = trainingDataset.drop(columns=['Sunshine','Evaporation','Cloud9am','Cloud3pm','row ID'],axis=1) \n",
    "unknownDataset = unknownDataset.drop(columns=['Sunshine','Evaporation','Cloud9am','Cloud3pm'],axis=1) \n",
    "print(trainingDataset.shape)\n",
    "print(unknownDataset.shape) "
   ]
  },
  {
   "cell_type": "markdown",
   "metadata": {},
   "source": [
    "# Impute the data for the unknownDataset"
   ]
  },
  {
   "cell_type": "code",
   "execution_count": 9,
   "metadata": {},
   "outputs": [],
   "source": [
    "def returnListOfNumericCols(data):\n",
    "    numericColumns = []\n",
    "\n",
    "    for col in data.columns:\n",
    "        if(data[col].dtype == 'float64'): # if the type of the col is numeric\n",
    "            numericColumns.append(col)\n",
    "\n",
    "    return numericColumns"
   ]
  },
  {
   "cell_type": "code",
   "execution_count": 10,
   "metadata": {},
   "outputs": [],
   "source": [
    "def return_categorical_columns(df):\n",
    "    catCols = []\n",
    "    for col in df.columns :\n",
    "        if(df[col].dtypes == 'object'):\n",
    "            catCols.append(col)\n",
    "    return catCols"
   ]
  },
  {
   "cell_type": "code",
   "execution_count": 11,
   "metadata": {},
   "outputs": [
    {
     "name": "stdout",
     "output_type": "stream",
     "text": [
      "Imputed Data : \n",
      "          row ID Location  MinTemp  MaxTemp  Rainfall WindGustDir  \\\n",
      "0          Row0   Albury     12.9     25.7       0.0         WSW   \n",
      "1          Row1   Albury      9.2     28.0       0.0          NE   \n",
      "2          Row2   Albury     14.3     25.0       0.0           W   \n",
      "3          Row3   Albury      9.7     31.9       0.0         NNW   \n",
      "4          Row4   Albury     15.9     18.6      15.6           W   \n",
      "...         ...      ...      ...      ...       ...         ...   \n",
      "42672  Row43633    Uluru      2.4     19.1       0.0           E   \n",
      "42673  Row43634    Uluru      2.3     21.4       0.0          SE   \n",
      "42674  Row43635    Uluru      2.6     22.5       0.0           S   \n",
      "42675  Row43636    Uluru      7.4     20.6       0.0           E   \n",
      "42676  Row43637    Uluru      7.8     27.0       0.0          SE   \n",
      "\n",
      "       WindGustSpeed WindDir9am WindDir3pm  WindSpeed9am  WindSpeed3pm  \\\n",
      "0               46.0          W        WSW          19.0          26.0   \n",
      "1               24.0         SE          E          11.0           9.0   \n",
      "2               50.0         SW          W          20.0          24.0   \n",
      "3               80.0         SE         NW           7.0          28.0   \n",
      "4               61.0        NNW        NNW          28.0          28.0   \n",
      "...              ...        ...        ...           ...           ...   \n",
      "42672           33.0         SE          E          17.0          17.0   \n",
      "42673           22.0         SE        SSE          11.0           7.0   \n",
      "42674           19.0          S          E           9.0           7.0   \n",
      "42675           35.0        ESE          E          15.0          17.0   \n",
      "42676           28.0        SSE          N          13.0           7.0   \n",
      "\n",
      "       Humidity9am  Humidity3pm  Pressure9am  Pressure3pm  Temp9am  Temp3pm  \\\n",
      "0             38.0         30.0       1007.6       1008.7     21.0     23.2   \n",
      "1             45.0         16.0       1017.6       1012.8     18.1     26.5   \n",
      "2             49.0         19.0       1009.6       1008.2     18.1     24.6   \n",
      "3             42.0          9.0       1008.9       1003.6     18.3     30.2   \n",
      "4             76.0         93.0        994.3        993.0     17.4     15.8   \n",
      "...            ...          ...          ...          ...      ...      ...   \n",
      "42672         59.0         24.0       1030.0       1026.2      8.0     18.8   \n",
      "42673         60.0         28.0       1026.9       1022.8      8.9     20.3   \n",
      "42674         59.0         24.0       1025.0       1021.4      8.8     22.1   \n",
      "42675         63.0         33.0       1027.2       1023.3     11.0     20.3   \n",
      "42676         51.0         24.0       1019.4       1016.5     15.1     26.0   \n",
      "\n",
      "      RainToday  \n",
      "0            No  \n",
      "1            No  \n",
      "2            No  \n",
      "3            No  \n",
      "4           Yes  \n",
      "...         ...  \n",
      "42672        No  \n",
      "42673        No  \n",
      "42674        No  \n",
      "42675        No  \n",
      "42676        No  \n",
      "\n",
      "[42677 rows x 18 columns]\n"
     ]
    }
   ],
   "source": [
    "from sklearn.impute import SimpleImputer\n",
    " \n",
    "imputer = SimpleImputer(missing_values = np.nan,strategy ='median')\n",
    " \n",
    " \n",
    "for col in returnListOfNumericCols(trainingDataset):\n",
    "        trainingDataset[col] = imputer.fit_transform(trainingDataset[col].values.reshape(-1, 1))\n",
    "        unknownDataset[col] = imputer.fit_transform(unknownDataset[col].values.reshape(-1, 1))\n",
    "# Imputing the data    \n",
    " \n",
    "print(\"Imputed Data : \\n\", unknownDataset)\n"
   ]
  },
  {
   "cell_type": "code",
   "execution_count": 12,
   "metadata": {},
   "outputs": [],
   "source": [
    "catImputer = SimpleImputer(missing_values = np.nan,strategy ='most_frequent')\n",
    "\n",
    "for col in return_categorical_columns(trainingDataset):\n",
    "    trainingDataset[col] = catImputer.fit_transform(trainingDataset[col].values.reshape(-1, 1))\n",
    "    unknownDataset[col] = catImputer.fit_transform(unknownDataset[col].values.reshape(-1, 1))"
   ]
  },
  {
   "cell_type": "markdown",
   "metadata": {},
   "source": [
    "# Removing outliers"
   ]
  },
  {
   "cell_type": "code",
   "execution_count": 13,
   "metadata": {},
   "outputs": [],
   "source": [
    "from scipy import stats\n",
    "zscore = np.abs(stats.zscore(trainingDataset._get_numeric_data()))\n",
    "trainingDataset= trainingDataset[(zscore < 3).all(axis=1)] # If Z score is below than Standard Deviation"
   ]
  },
  {
   "cell_type": "code",
   "execution_count": 14,
   "metadata": {},
   "outputs": [
    {
     "data": {
      "text/plain": [
       "Location         0\n",
       "MinTemp          0\n",
       "MaxTemp          0\n",
       "Rainfall         0\n",
       "WindGustDir      0\n",
       "WindGustSpeed    0\n",
       "WindDir9am       0\n",
       "WindDir3pm       0\n",
       "WindSpeed9am     0\n",
       "WindSpeed3pm     0\n",
       "Humidity9am      0\n",
       "Humidity3pm      0\n",
       "Pressure9am      0\n",
       "Pressure3pm      0\n",
       "Temp9am          0\n",
       "Temp3pm          0\n",
       "RainToday        0\n",
       "RainTomorrow     0\n",
       "dtype: int64"
      ]
     },
     "execution_count": 14,
     "metadata": {},
     "output_type": "execute_result"
    }
   ],
   "source": [
    "trainingDataset.isna().sum()"
   ]
  },
  {
   "cell_type": "markdown",
   "metadata": {},
   "source": [
    "# Performing standardization the data"
   ]
  },
  {
   "cell_type": "code",
   "execution_count": 15,
   "metadata": {},
   "outputs": [
    {
     "name": "stdout",
     "output_type": "stream",
     "text": [
      "(94628, 18)\n",
      "(42677, 18)\n"
     ]
    }
   ],
   "source": [
    "from sklearn.preprocessing import StandardScaler\n",
    "\n",
    "# create a scaler object\n",
    "scaler = StandardScaler()\n",
    "\n",
    "for col in returnListOfNumericCols(trainingDataset):\n",
    "    scalerData = scaler.fit_transform(trainingDataset[col].values.reshape(-1, 1))\n",
    "    scalerUnknownData = scaler.fit_transform(unknownDataset[col].values.reshape(-1, 1))\n",
    "    \n",
    "    trainingDataset[col] =  scalerData\n",
    "    unknownDataset[col] = scalerUnknownData\n",
    "print(trainingDataset.shape)\n",
    "print(unknownDataset.shape)"
   ]
  },
  {
   "cell_type": "code",
   "execution_count": 16,
   "metadata": {},
   "outputs": [
    {
     "data": {
      "text/html": [
       "<div>\n",
       "<style scoped>\n",
       "    .dataframe tbody tr th:only-of-type {\n",
       "        vertical-align: middle;\n",
       "    }\n",
       "\n",
       "    .dataframe tbody tr th {\n",
       "        vertical-align: top;\n",
       "    }\n",
       "\n",
       "    .dataframe thead th {\n",
       "        text-align: right;\n",
       "    }\n",
       "</style>\n",
       "<table border=\"1\" class=\"dataframe\">\n",
       "  <thead>\n",
       "    <tr style=\"text-align: right;\">\n",
       "      <th></th>\n",
       "      <th>Location</th>\n",
       "      <th>MinTemp</th>\n",
       "      <th>MaxTemp</th>\n",
       "      <th>Rainfall</th>\n",
       "      <th>WindGustDir</th>\n",
       "      <th>WindGustSpeed</th>\n",
       "      <th>WindDir9am</th>\n",
       "      <th>WindDir3pm</th>\n",
       "      <th>WindSpeed9am</th>\n",
       "      <th>WindSpeed3pm</th>\n",
       "      <th>Humidity9am</th>\n",
       "      <th>Humidity3pm</th>\n",
       "      <th>Pressure9am</th>\n",
       "      <th>Pressure3pm</th>\n",
       "      <th>Temp9am</th>\n",
       "      <th>Temp3pm</th>\n",
       "      <th>RainToday</th>\n",
       "      <th>RainTomorrow</th>\n",
       "    </tr>\n",
       "  </thead>\n",
       "  <tbody>\n",
       "    <tr>\n",
       "      <th>0</th>\n",
       "      <td>Albury</td>\n",
       "      <td>0.204475</td>\n",
       "      <td>-0.051249</td>\n",
       "      <td>-0.221288</td>\n",
       "      <td>W</td>\n",
       "      <td>0.435522</td>\n",
       "      <td>W</td>\n",
       "      <td>WNW</td>\n",
       "      <td>0.796001</td>\n",
       "      <td>0.709740</td>\n",
       "      <td>0.113113</td>\n",
       "      <td>-1.450971</td>\n",
       "      <td>-1.604171</td>\n",
       "      <td>-1.325052</td>\n",
       "      <td>-0.004579</td>\n",
       "      <td>0.011567</td>\n",
       "      <td>No</td>\n",
       "      <td>0</td>\n",
       "    </tr>\n",
       "    <tr>\n",
       "      <th>1</th>\n",
       "      <td>Albury</td>\n",
       "      <td>-0.742799</td>\n",
       "      <td>0.265637</td>\n",
       "      <td>-0.377757</td>\n",
       "      <td>WNW</td>\n",
       "      <td>0.435522</td>\n",
       "      <td>NNW</td>\n",
       "      <td>WSW</td>\n",
       "      <td>-1.157264</td>\n",
       "      <td>0.464528</td>\n",
       "      <td>-1.348046</td>\n",
       "      <td>-1.301398</td>\n",
       "      <td>-1.152919</td>\n",
       "      <td>-1.215662</td>\n",
       "      <td>0.042473</td>\n",
       "      <td>0.384396</td>\n",
       "      <td>No</td>\n",
       "      <td>0</td>\n",
       "    </tr>\n",
       "    <tr>\n",
       "      <th>2</th>\n",
       "      <td>Albury</td>\n",
       "      <td>0.851779</td>\n",
       "      <td>1.302718</td>\n",
       "      <td>-0.116976</td>\n",
       "      <td>W</td>\n",
       "      <td>0.180056</td>\n",
       "      <td>ENE</td>\n",
       "      <td>NW</td>\n",
       "      <td>-0.791027</td>\n",
       "      <td>0.219316</td>\n",
       "      <td>0.708400</td>\n",
       "      <td>-0.902534</td>\n",
       "      <td>-1.121798</td>\n",
       "      <td>-1.496951</td>\n",
       "      <td>0.136578</td>\n",
       "      <td>1.189707</td>\n",
       "      <td>No</td>\n",
       "      <td>0</td>\n",
       "    </tr>\n",
       "    <tr>\n",
       "      <th>3</th>\n",
       "      <td>Albury</td>\n",
       "      <td>0.393930</td>\n",
       "      <td>0.928217</td>\n",
       "      <td>-0.325601</td>\n",
       "      <td>WNW</td>\n",
       "      <td>1.457385</td>\n",
       "      <td>W</td>\n",
       "      <td>W</td>\n",
       "      <td>0.673922</td>\n",
       "      <td>0.709740</td>\n",
       "      <td>-0.752759</td>\n",
       "      <td>-1.401114</td>\n",
       "      <td>-1.370765</td>\n",
       "      <td>-1.590714</td>\n",
       "      <td>0.575736</td>\n",
       "      <td>1.070402</td>\n",
       "      <td>No</td>\n",
       "      <td>0</td>\n",
       "    </tr>\n",
       "    <tr>\n",
       "      <th>4</th>\n",
       "      <td>Albury</td>\n",
       "      <td>-0.695435</td>\n",
       "      <td>0.496099</td>\n",
       "      <td>-0.377757</td>\n",
       "      <td>W</td>\n",
       "      <td>-0.330875</td>\n",
       "      <td>SSE</td>\n",
       "      <td>W</td>\n",
       "      <td>-0.913106</td>\n",
       "      <td>-0.148502</td>\n",
       "      <td>-1.131578</td>\n",
       "      <td>-1.600545</td>\n",
       "      <td>-0.717227</td>\n",
       "      <td>-0.856237</td>\n",
       "      <td>-0.098685</td>\n",
       "      <td>0.563354</td>\n",
       "      <td>No</td>\n",
       "      <td>0</td>\n",
       "    </tr>\n",
       "  </tbody>\n",
       "</table>\n",
       "</div>"
      ],
      "text/plain": [
       "  Location   MinTemp   MaxTemp  Rainfall WindGustDir  WindGustSpeed  \\\n",
       "0   Albury  0.204475 -0.051249 -0.221288           W       0.435522   \n",
       "1   Albury -0.742799  0.265637 -0.377757         WNW       0.435522   \n",
       "2   Albury  0.851779  1.302718 -0.116976           W       0.180056   \n",
       "3   Albury  0.393930  0.928217 -0.325601         WNW       1.457385   \n",
       "4   Albury -0.695435  0.496099 -0.377757           W      -0.330875   \n",
       "\n",
       "  WindDir9am WindDir3pm  WindSpeed9am  WindSpeed3pm  Humidity9am  Humidity3pm  \\\n",
       "0          W        WNW      0.796001      0.709740     0.113113    -1.450971   \n",
       "1        NNW        WSW     -1.157264      0.464528    -1.348046    -1.301398   \n",
       "2        ENE         NW     -0.791027      0.219316     0.708400    -0.902534   \n",
       "3          W          W      0.673922      0.709740    -0.752759    -1.401114   \n",
       "4        SSE          W     -0.913106     -0.148502    -1.131578    -1.600545   \n",
       "\n",
       "   Pressure9am  Pressure3pm   Temp9am   Temp3pm RainToday  RainTomorrow  \n",
       "0    -1.604171    -1.325052 -0.004579  0.011567        No             0  \n",
       "1    -1.152919    -1.215662  0.042473  0.384396        No             0  \n",
       "2    -1.121798    -1.496951  0.136578  1.189707        No             0  \n",
       "3    -1.370765    -1.590714  0.575736  1.070402        No             0  \n",
       "4    -0.717227    -0.856237 -0.098685  0.563354        No             0  "
      ]
     },
     "execution_count": 16,
     "metadata": {},
     "output_type": "execute_result"
    }
   ],
   "source": [
    "trainingDataset.head()"
   ]
  },
  {
   "cell_type": "markdown",
   "metadata": {},
   "source": [
    "# Binarise the categories data"
   ]
  },
  {
   "cell_type": "code",
   "execution_count": 17,
   "metadata": {},
   "outputs": [],
   "source": [
    "trainingDataset[\"RainToday\"].replace({\"No\":0,\"Yes\":1},inplace = True)\n",
    "unknownDataset[\"RainToday\"].replace({\"No\":0,\"Yes\":1},inplace = True)\n",
    "\n"
   ]
  },
  {
   "cell_type": "code",
   "execution_count": 18,
   "metadata": {},
   "outputs": [],
   "source": [
    "from sklearn.preprocessing import LabelEncoder\n",
    "label_encoder = LabelEncoder()\n",
    "for col in return_categorical_columns(trainingDataset):\n",
    "    trainingDataset[col] = label_encoder.fit_transform(trainingDataset[col])\n",
    "    unknownDataset[col] = label_encoder.fit_transform(unknownDataset[col])\n"
   ]
  },
  {
   "cell_type": "code",
   "execution_count": 19,
   "metadata": {},
   "outputs": [
    {
     "data": {
      "text/html": [
       "<div>\n",
       "<style scoped>\n",
       "    .dataframe tbody tr th:only-of-type {\n",
       "        vertical-align: middle;\n",
       "    }\n",
       "\n",
       "    .dataframe tbody tr th {\n",
       "        vertical-align: top;\n",
       "    }\n",
       "\n",
       "    .dataframe thead th {\n",
       "        text-align: right;\n",
       "    }\n",
       "</style>\n",
       "<table border=\"1\" class=\"dataframe\">\n",
       "  <thead>\n",
       "    <tr style=\"text-align: right;\">\n",
       "      <th></th>\n",
       "      <th>Location</th>\n",
       "      <th>MinTemp</th>\n",
       "      <th>MaxTemp</th>\n",
       "      <th>Rainfall</th>\n",
       "      <th>WindGustDir</th>\n",
       "      <th>WindGustSpeed</th>\n",
       "      <th>WindDir9am</th>\n",
       "      <th>WindDir3pm</th>\n",
       "      <th>WindSpeed9am</th>\n",
       "      <th>WindSpeed3pm</th>\n",
       "      <th>Humidity9am</th>\n",
       "      <th>Humidity3pm</th>\n",
       "      <th>Pressure9am</th>\n",
       "      <th>Pressure3pm</th>\n",
       "      <th>Temp9am</th>\n",
       "      <th>Temp3pm</th>\n",
       "      <th>RainToday</th>\n",
       "      <th>RainTomorrow</th>\n",
       "    </tr>\n",
       "  </thead>\n",
       "  <tbody>\n",
       "    <tr>\n",
       "      <th>0</th>\n",
       "      <td>2</td>\n",
       "      <td>0.204475</td>\n",
       "      <td>-0.051249</td>\n",
       "      <td>-0.221288</td>\n",
       "      <td>13</td>\n",
       "      <td>0.435522</td>\n",
       "      <td>13</td>\n",
       "      <td>14</td>\n",
       "      <td>0.796001</td>\n",
       "      <td>0.709740</td>\n",
       "      <td>0.113113</td>\n",
       "      <td>-1.450971</td>\n",
       "      <td>-1.604171</td>\n",
       "      <td>-1.325052</td>\n",
       "      <td>-0.004579</td>\n",
       "      <td>0.011567</td>\n",
       "      <td>0</td>\n",
       "      <td>0</td>\n",
       "    </tr>\n",
       "    <tr>\n",
       "      <th>1</th>\n",
       "      <td>2</td>\n",
       "      <td>-0.742799</td>\n",
       "      <td>0.265637</td>\n",
       "      <td>-0.377757</td>\n",
       "      <td>14</td>\n",
       "      <td>0.435522</td>\n",
       "      <td>6</td>\n",
       "      <td>15</td>\n",
       "      <td>-1.157264</td>\n",
       "      <td>0.464528</td>\n",
       "      <td>-1.348046</td>\n",
       "      <td>-1.301398</td>\n",
       "      <td>-1.152919</td>\n",
       "      <td>-1.215662</td>\n",
       "      <td>0.042473</td>\n",
       "      <td>0.384396</td>\n",
       "      <td>0</td>\n",
       "      <td>0</td>\n",
       "    </tr>\n",
       "    <tr>\n",
       "      <th>2</th>\n",
       "      <td>2</td>\n",
       "      <td>0.851779</td>\n",
       "      <td>1.302718</td>\n",
       "      <td>-0.116976</td>\n",
       "      <td>13</td>\n",
       "      <td>0.180056</td>\n",
       "      <td>1</td>\n",
       "      <td>7</td>\n",
       "      <td>-0.791027</td>\n",
       "      <td>0.219316</td>\n",
       "      <td>0.708400</td>\n",
       "      <td>-0.902534</td>\n",
       "      <td>-1.121798</td>\n",
       "      <td>-1.496951</td>\n",
       "      <td>0.136578</td>\n",
       "      <td>1.189707</td>\n",
       "      <td>0</td>\n",
       "      <td>0</td>\n",
       "    </tr>\n",
       "    <tr>\n",
       "      <th>3</th>\n",
       "      <td>2</td>\n",
       "      <td>0.393930</td>\n",
       "      <td>0.928217</td>\n",
       "      <td>-0.325601</td>\n",
       "      <td>14</td>\n",
       "      <td>1.457385</td>\n",
       "      <td>13</td>\n",
       "      <td>13</td>\n",
       "      <td>0.673922</td>\n",
       "      <td>0.709740</td>\n",
       "      <td>-0.752759</td>\n",
       "      <td>-1.401114</td>\n",
       "      <td>-1.370765</td>\n",
       "      <td>-1.590714</td>\n",
       "      <td>0.575736</td>\n",
       "      <td>1.070402</td>\n",
       "      <td>0</td>\n",
       "      <td>0</td>\n",
       "    </tr>\n",
       "    <tr>\n",
       "      <th>4</th>\n",
       "      <td>2</td>\n",
       "      <td>-0.695435</td>\n",
       "      <td>0.496099</td>\n",
       "      <td>-0.377757</td>\n",
       "      <td>13</td>\n",
       "      <td>-0.330875</td>\n",
       "      <td>10</td>\n",
       "      <td>13</td>\n",
       "      <td>-0.913106</td>\n",
       "      <td>-0.148502</td>\n",
       "      <td>-1.131578</td>\n",
       "      <td>-1.600545</td>\n",
       "      <td>-0.717227</td>\n",
       "      <td>-0.856237</td>\n",
       "      <td>-0.098685</td>\n",
       "      <td>0.563354</td>\n",
       "      <td>0</td>\n",
       "      <td>0</td>\n",
       "    </tr>\n",
       "  </tbody>\n",
       "</table>\n",
       "</div>"
      ],
      "text/plain": [
       "   Location   MinTemp   MaxTemp  Rainfall  WindGustDir  WindGustSpeed  \\\n",
       "0         2  0.204475 -0.051249 -0.221288           13       0.435522   \n",
       "1         2 -0.742799  0.265637 -0.377757           14       0.435522   \n",
       "2         2  0.851779  1.302718 -0.116976           13       0.180056   \n",
       "3         2  0.393930  0.928217 -0.325601           14       1.457385   \n",
       "4         2 -0.695435  0.496099 -0.377757           13      -0.330875   \n",
       "\n",
       "   WindDir9am  WindDir3pm  WindSpeed9am  WindSpeed3pm  Humidity9am  \\\n",
       "0          13          14      0.796001      0.709740     0.113113   \n",
       "1           6          15     -1.157264      0.464528    -1.348046   \n",
       "2           1           7     -0.791027      0.219316     0.708400   \n",
       "3          13          13      0.673922      0.709740    -0.752759   \n",
       "4          10          13     -0.913106     -0.148502    -1.131578   \n",
       "\n",
       "   Humidity3pm  Pressure9am  Pressure3pm   Temp9am   Temp3pm  RainToday  \\\n",
       "0    -1.450971    -1.604171    -1.325052 -0.004579  0.011567          0   \n",
       "1    -1.301398    -1.152919    -1.215662  0.042473  0.384396          0   \n",
       "2    -0.902534    -1.121798    -1.496951  0.136578  1.189707          0   \n",
       "3    -1.401114    -1.370765    -1.590714  0.575736  1.070402          0   \n",
       "4    -1.600545    -0.717227    -0.856237 -0.098685  0.563354          0   \n",
       "\n",
       "   RainTomorrow  \n",
       "0             0  \n",
       "1             0  \n",
       "2             0  \n",
       "3             0  \n",
       "4             0  "
      ]
     },
     "execution_count": 19,
     "metadata": {},
     "output_type": "execute_result"
    }
   ],
   "source": [
    "trainingDataset.head()"
   ]
  },
  {
   "cell_type": "code",
   "execution_count": 20,
   "metadata": {},
   "outputs": [
    {
     "data": {
      "text/html": [
       "<div>\n",
       "<style scoped>\n",
       "    .dataframe tbody tr th:only-of-type {\n",
       "        vertical-align: middle;\n",
       "    }\n",
       "\n",
       "    .dataframe tbody tr th {\n",
       "        vertical-align: top;\n",
       "    }\n",
       "\n",
       "    .dataframe thead th {\n",
       "        text-align: right;\n",
       "    }\n",
       "</style>\n",
       "<table border=\"1\" class=\"dataframe\">\n",
       "  <thead>\n",
       "    <tr style=\"text-align: right;\">\n",
       "      <th></th>\n",
       "      <th>row ID</th>\n",
       "      <th>Location</th>\n",
       "      <th>MinTemp</th>\n",
       "      <th>MaxTemp</th>\n",
       "      <th>Rainfall</th>\n",
       "      <th>WindGustDir</th>\n",
       "      <th>WindGustSpeed</th>\n",
       "      <th>WindDir9am</th>\n",
       "      <th>WindDir3pm</th>\n",
       "      <th>WindSpeed9am</th>\n",
       "      <th>WindSpeed3pm</th>\n",
       "      <th>Humidity9am</th>\n",
       "      <th>Humidity3pm</th>\n",
       "      <th>Pressure9am</th>\n",
       "      <th>Pressure3pm</th>\n",
       "      <th>Temp9am</th>\n",
       "      <th>Temp3pm</th>\n",
       "      <th>RainToday</th>\n",
       "    </tr>\n",
       "  </thead>\n",
       "  <tbody>\n",
       "    <tr>\n",
       "      <th>0</th>\n",
       "      <td>Row0</td>\n",
       "      <td>2</td>\n",
       "      <td>0.107664</td>\n",
       "      <td>0.345048</td>\n",
       "      <td>-0.277010</td>\n",
       "      <td>15</td>\n",
       "      <td>0.460943</td>\n",
       "      <td>13</td>\n",
       "      <td>15</td>\n",
       "      <td>0.567883</td>\n",
       "      <td>0.846481</td>\n",
       "      <td>-1.632082</td>\n",
       "      <td>-1.050313</td>\n",
       "      <td>-1.483403</td>\n",
       "      <td>-0.975261</td>\n",
       "      <td>0.613200</td>\n",
       "      <td>0.219417</td>\n",
       "      <td>0</td>\n",
       "    </tr>\n",
       "    <tr>\n",
       "      <th>1</th>\n",
       "      <td>Row1</td>\n",
       "      <td>2</td>\n",
       "      <td>-0.468892</td>\n",
       "      <td>0.668268</td>\n",
       "      <td>-0.277010</td>\n",
       "      <td>4</td>\n",
       "      <td>-1.211320</td>\n",
       "      <td>9</td>\n",
       "      <td>0</td>\n",
       "      <td>-0.338135</td>\n",
       "      <td>-1.102042</td>\n",
       "      <td>-1.261232</td>\n",
       "      <td>-1.730816</td>\n",
       "      <td>0.002462</td>\n",
       "      <td>-0.359481</td>\n",
       "      <td>0.165641</td>\n",
       "      <td>0.698750</td>\n",
       "      <td>0</td>\n",
       "    </tr>\n",
       "    <tr>\n",
       "      <th>2</th>\n",
       "      <td>Row2</td>\n",
       "      <td>2</td>\n",
       "      <td>0.325820</td>\n",
       "      <td>0.246677</td>\n",
       "      <td>-0.277010</td>\n",
       "      <td>13</td>\n",
       "      <td>0.764991</td>\n",
       "      <td>12</td>\n",
       "      <td>13</td>\n",
       "      <td>0.681135</td>\n",
       "      <td>0.617243</td>\n",
       "      <td>-1.049318</td>\n",
       "      <td>-1.584994</td>\n",
       "      <td>-1.186230</td>\n",
       "      <td>-1.050356</td>\n",
       "      <td>0.165641</td>\n",
       "      <td>0.422771</td>\n",
       "      <td>0</td>\n",
       "    </tr>\n",
       "    <tr>\n",
       "      <th>3</th>\n",
       "      <td>Row3</td>\n",
       "      <td>2</td>\n",
       "      <td>-0.390979</td>\n",
       "      <td>1.216337</td>\n",
       "      <td>-0.277010</td>\n",
       "      <td>6</td>\n",
       "      <td>3.045351</td>\n",
       "      <td>9</td>\n",
       "      <td>7</td>\n",
       "      <td>-0.791145</td>\n",
       "      <td>1.075719</td>\n",
       "      <td>-1.420168</td>\n",
       "      <td>-2.071068</td>\n",
       "      <td>-1.290240</td>\n",
       "      <td>-1.741230</td>\n",
       "      <td>0.196507</td>\n",
       "      <td>1.236184</td>\n",
       "      <td>0</td>\n",
       "    </tr>\n",
       "    <tr>\n",
       "      <th>4</th>\n",
       "      <td>Row4</td>\n",
       "      <td>2</td>\n",
       "      <td>0.575141</td>\n",
       "      <td>-0.652718</td>\n",
       "      <td>1.586107</td>\n",
       "      <td>13</td>\n",
       "      <td>1.601123</td>\n",
       "      <td>6</td>\n",
       "      <td>6</td>\n",
       "      <td>1.587154</td>\n",
       "      <td>1.075719</td>\n",
       "      <td>0.381101</td>\n",
       "      <td>2.011954</td>\n",
       "      <td>-3.459602</td>\n",
       "      <td>-3.333245</td>\n",
       "      <td>0.057609</td>\n",
       "      <td>-0.855450</td>\n",
       "      <td>1</td>\n",
       "    </tr>\n",
       "  </tbody>\n",
       "</table>\n",
       "</div>"
      ],
      "text/plain": [
       "  row ID  Location   MinTemp   MaxTemp  Rainfall  WindGustDir  WindGustSpeed  \\\n",
       "0   Row0         2  0.107664  0.345048 -0.277010           15       0.460943   \n",
       "1   Row1         2 -0.468892  0.668268 -0.277010            4      -1.211320   \n",
       "2   Row2         2  0.325820  0.246677 -0.277010           13       0.764991   \n",
       "3   Row3         2 -0.390979  1.216337 -0.277010            6       3.045351   \n",
       "4   Row4         2  0.575141 -0.652718  1.586107           13       1.601123   \n",
       "\n",
       "   WindDir9am  WindDir3pm  WindSpeed9am  WindSpeed3pm  Humidity9am  \\\n",
       "0          13          15      0.567883      0.846481    -1.632082   \n",
       "1           9           0     -0.338135     -1.102042    -1.261232   \n",
       "2          12          13      0.681135      0.617243    -1.049318   \n",
       "3           9           7     -0.791145      1.075719    -1.420168   \n",
       "4           6           6      1.587154      1.075719     0.381101   \n",
       "\n",
       "   Humidity3pm  Pressure9am  Pressure3pm   Temp9am   Temp3pm  RainToday  \n",
       "0    -1.050313    -1.483403    -0.975261  0.613200  0.219417          0  \n",
       "1    -1.730816     0.002462    -0.359481  0.165641  0.698750          0  \n",
       "2    -1.584994    -1.186230    -1.050356  0.165641  0.422771          0  \n",
       "3    -2.071068    -1.290240    -1.741230  0.196507  1.236184          0  \n",
       "4     2.011954    -3.459602    -3.333245  0.057609 -0.855450          1  "
      ]
     },
     "execution_count": 20,
     "metadata": {},
     "output_type": "execute_result"
    }
   ],
   "source": [
    "unknownDataset.head()"
   ]
  },
  {
   "cell_type": "markdown",
   "metadata": {},
   "source": [
    "# Splitting the data"
   ]
  },
  {
   "cell_type": "code",
   "execution_count": 21,
   "metadata": {},
   "outputs": [],
   "source": [
    "X = trainingDataset.loc[:,trainingDataset.columns!='RainTomorrow']\n",
    "y = trainingDataset.RainTomorrow"
   ]
  },
  {
   "cell_type": "code",
   "execution_count": 22,
   "metadata": {},
   "outputs": [
    {
     "data": {
      "text/plain": [
       "Location         0\n",
       "MinTemp          0\n",
       "MaxTemp          0\n",
       "Rainfall         0\n",
       "WindGustDir      0\n",
       "WindGustSpeed    0\n",
       "WindDir9am       0\n",
       "WindDir3pm       0\n",
       "WindSpeed9am     0\n",
       "WindSpeed3pm     0\n",
       "Humidity9am      0\n",
       "Humidity3pm      0\n",
       "Pressure9am      0\n",
       "Pressure3pm      0\n",
       "Temp9am          0\n",
       "Temp3pm          0\n",
       "RainToday        0\n",
       "dtype: int64"
      ]
     },
     "execution_count": 22,
     "metadata": {},
     "output_type": "execute_result"
    }
   ],
   "source": [
    "X.isna().sum()"
   ]
  },
  {
   "cell_type": "code",
   "execution_count": 23,
   "metadata": {},
   "outputs": [],
   "source": [
    "from sklearn.model_selection import train_test_split\n",
    "from sklearn.metrics import f1_score\n",
    "from sklearn.metrics import accuracy_score\n",
    "from sklearn.metrics import roc_curve, roc_auc_score\n",
    "X_train, X_test, y_train, y_test = train_test_split(X, y, test_size=0.3, random_state=42)\n"
   ]
  },
  {
   "cell_type": "markdown",
   "metadata": {},
   "source": [
    "# Defying a function to evaluate perfoemance (f1 score, auc values, roc curve)"
   ]
  },
  {
   "cell_type": "code",
   "execution_count": 24,
   "metadata": {},
   "outputs": [],
   "source": [
    "def evaluate_performance(classifier, X_test,y_test):\n",
    "    y_probs = classifier.predict_proba(X_test)\n",
    "    y_probs_class_1 = y_probs[:,1]\n",
    "\n",
    "    auc = roc_auc_score(y_test, y_probs_class_1)    \n",
    "    fpr, tpr, threshold = roc_curve(y_test, y_probs_class_1, pos_label=1)\n",
    "\n",
    "    # configure the plot\n",
    "    import matplotlib.pyplot as plt\n",
    "    plt.figure()\n",
    "    plt.plot(fpr, tpr, color='darkorange',\n",
    "            lw=2, label='ROC curve (area = %0.2f)' % auc)\n",
    "    plt.plot([0, 1], [0, 1], color='navy', lw=2, linestyle='--') \n",
    "    # set x and y axis labels \n",
    "    plt.xlim([0.0, 1.0])\n",
    "    plt.ylim([0.0, 1.05])\n",
    "    plt.xlabel('False Positive Rate')\n",
    "    plt.ylabel('True Positive Rate')\n",
    "    plt.legend(loc=\"lower right\")\n",
    "    plt.show()\n",
    "    print(\"AUC: {}\".format(auc))\n",
    "    "
   ]
  },
  {
   "cell_type": "markdown",
   "metadata": {},
   "source": [
    "# Decision Tree"
   ]
  },
  {
   "cell_type": "code",
   "execution_count": 25,
   "metadata": {},
   "outputs": [],
   "source": [
    "from sklearn import tree\n",
    "clf = tree.DecisionTreeClassifier(max_depth=5,max_leaf_nodes=3)\n",
    "clf.fit(X_train, y_train)\n",
    "y_pred = clf.predict(X_test) "
   ]
  },
  {
   "cell_type": "code",
   "execution_count": 26,
   "metadata": {},
   "outputs": [
    {
     "data": {
      "image/png": "[encoded data removed]",
      "text/plain": [
       "<Figure size 432x288 with 1 Axes>"
      ]
     },
     "metadata": {
      "needs_background": "light"
     },
     "output_type": "display_data"
    },
    {
     "name": "stdout",
     "output_type": "stream",
     "text": [
      "AUC: 0.692173373430131\n",
      "82.97227799499807\n"
     ]
    },
    {
     "data": {
      "text/plain": [
       "0.36810457516339873"
      ]
     },
     "execution_count": 26,
     "metadata": {},
     "output_type": "execute_result"
    }
   ],
   "source": [
    "evaluate_performance(clf,X_test,y_test)\n",
    "print(accuracy_score(y_test,y_pred) * 100)\n",
    "f1_score(y_test,y_pred)\n"
   ]
  },
  {
   "cell_type": "markdown",
   "metadata": {},
   "source": [
    "# KNN"
   ]
  },
  {
   "cell_type": "code",
   "execution_count": 27,
   "metadata": {},
   "outputs": [],
   "source": [
    "from sklearn.neighbors import KNeighborsClassifier\n",
    "\n",
    "Ksclf = KNeighborsClassifier(n_neighbors = 10)\n",
    "Ksclf.fit(X_train, y_train)\n",
    "y_pred = Ksclf.predict(X_test)\n"
   ]
  },
  {
   "cell_type": "code",
   "execution_count": 28,
   "metadata": {},
   "outputs": [
    {
     "data": {
      "image/png": "[encoded data removed]",
      "text/plain": [
       "<Figure size 432x288 with 1 Axes>"
      ]
     },
     "metadata": {
      "needs_background": "light"
     },
     "output_type": "display_data"
    },
    {
     "name": "stdout",
     "output_type": "stream",
     "text": [
      "AUC: 0.8066099159724899\n",
      "82.50378667793863\n"
     ]
    },
    {
     "data": {
      "text/plain": [
       "0.37639673571876964"
      ]
     },
     "execution_count": 28,
     "metadata": {},
     "output_type": "execute_result"
    }
   ],
   "source": [
    "\n",
    "evaluate_performance(Ksclf,X_test,y_test)\n",
    "print(accuracy_score(y_test,y_pred) * 100)\n",
    "f1_score(y_test,y_pred)"
   ]
  },
  {
   "cell_type": "markdown",
   "metadata": {},
   "source": [
    "# Random Forest"
   ]
  },
  {
   "cell_type": "code",
   "execution_count": 29,
   "metadata": {},
   "outputs": [],
   "source": [
    "from sklearn.ensemble import RandomForestClassifier\n",
    "\n",
    "rdclf = RandomForestClassifier()\n",
    "rdclf.fit(X_train, y_train)\n",
    "y_pred = rdclf.predict(X_test)"
   ]
  },
  {
   "cell_type": "code",
   "execution_count": 30,
   "metadata": {},
   "outputs": [
    {
     "data": {
      "image/png": "[encoded data removed]",
      "text/plain": [
       "<Figure size 432x288 with 1 Axes>"
      ]
     },
     "metadata": {
      "needs_background": "light"
     },
     "output_type": "display_data"
    },
    {
     "name": "stdout",
     "output_type": "stream",
     "text": [
      "AUC: 0.8690718773128009\n",
      "85.33939201803516\n"
     ]
    },
    {
     "data": {
      "text/plain": [
       "0.5605068637803591"
      ]
     },
     "execution_count": 30,
     "metadata": {},
     "output_type": "execute_result"
    }
   ],
   "source": [
    "evaluate_performance(rdclf,X_test,y_test)\n",
    "print(accuracy_score(y_test,y_pred) * 100)\n",
    "f1_score(y_test,y_pred)"
   ]
  },
  {
   "cell_type": "markdown",
   "metadata": {},
   "source": [
    "# Hyperparameter tuning random forest with gridsearchCV"
   ]
  },
  {
   "cell_type": "code",
   "execution_count": 31,
   "metadata": {},
   "outputs": [],
   "source": [
    "from sklearn.model_selection import GridSearchCV\n",
    "param_list = {\n",
    "    'min_samples_leaf':[3,6,9,12,15,18,24], \n",
    "    'max_depth': [5,10,None], \n",
    "    'criterion' : ['gini', 'entropy'],\n",
    "    'max_features': ['auto', 'sqrt', 'log2'],\n",
    "}\n",
    "RFC = RandomForestClassifier(n_jobs=-1, random_state=42)\n",
    "tunned_clf = GridSearchCV(RFC,param_list)\n",
    "tunned_clf.fit(X_train, y_train)\n",
    "y_pred = tunned_clf.predict(X_test)\n"
   ]
  },
  {
   "cell_type": "code",
   "execution_count": null,
   "metadata": {},
   "outputs": [
    {
     "data": {
      "text/plain": [
       "{'criterion': 'gini',\n",
       " 'max_depth': None,\n",
       " 'max_features': 'auto',\n",
       " 'min_samples_leaf': 3}"
      ]
     },
     "execution_count": 249,
     "metadata": {},
     "output_type": "execute_result"
    }
   ],
   "source": [
    "tunned_clf.best_params_"
   ]
  },
  {
   "cell_type": "code",
   "execution_count": null,
   "metadata": {},
   "outputs": [
    {
     "data": {
      "image/png": "[encoded data removed]",
      "text/plain": [
       "<Figure size 432x288 with 1 Axes>"
      ]
     },
     "metadata": {
      "needs_background": "light"
     },
     "output_type": "display_data"
    },
    {
     "name": "stdout",
     "output_type": "stream",
     "text": [
      "AUC: 0.8713992024446315\n",
      "85.44858924231217\n"
     ]
    },
    {
     "data": {
      "text/plain": [
       "0.5641945352885325"
      ]
     },
     "execution_count": 250,
     "metadata": {},
     "output_type": "execute_result"
    }
   ],
   "source": [
    "evaluate_performance(tunned_clf,X_test,y_test)\n",
    "print(accuracy_score(y_test,y_pred) * 100)\n",
    "f1_score(y_test,y_pred)"
   ]
  },
  {
   "cell_type": "markdown",
   "metadata": {},
   "source": [
    "# SVM"
   ]
  },
  {
   "cell_type": "code",
   "execution_count": null,
   "metadata": {},
   "outputs": [],
   "source": [
    "from sklearn.svm import SVC\n",
    "\n",
    "SvmClf = SVC(probability=True)\n",
    "SvmClf.fit(X_train, y_train)\n",
    "y_pred = SvmClf.predict(X_test)\n"
   ]
  },
  {
   "cell_type": "code",
   "execution_count": null,
   "metadata": {},
   "outputs": [
    {
     "data": {
      "image/png": "[encoded data removed]",
      "text/plain": [
       "<Figure size 432x288 with 1 Axes>"
      ]
     },
     "metadata": {
      "needs_background": "light"
     },
     "output_type": "display_data"
    },
    {
     "name": "stdout",
     "output_type": "stream",
     "text": [
      "AUC: 0.8534843231756403\n",
      "None\n",
      "84.38127443728204\n"
     ]
    },
    {
     "data": {
      "text/plain": [
       "0.48964088397790057"
      ]
     },
     "execution_count": 254,
     "metadata": {},
     "output_type": "execute_result"
    }
   ],
   "source": [
    "print(evaluate_performance(SvmClf,X_test,y_test))\n",
    "print(accuracy_score(y_test,y_pred) * 100)\n",
    "f1_score(y_test,y_pred)"
   ]
  },
  {
   "cell_type": "markdown",
   "metadata": {},
   "source": [
    "# Neural network"
   ]
  },
  {
   "cell_type": "code",
   "execution_count": null,
   "metadata": {},
   "outputs": [
    {
     "name": "stdout",
     "output_type": "stream",
     "text": [
      "Iteration 1, loss = 0.40470381\n",
      "Validation score: 0.833937\n",
      "Iteration 2, loss = 0.37022149\n",
      "Validation score: 0.836051\n",
      "Iteration 3, loss = 0.36617844\n",
      "Validation score: 0.839674\n",
      "Iteration 4, loss = 0.36229297\n",
      "Validation score: 0.839372\n",
      "Iteration 5, loss = 0.35920194\n",
      "Validation score: 0.838315\n",
      "Iteration 6, loss = 0.35730199\n",
      "Validation score: 0.844203\n",
      "Iteration 7, loss = 0.35833304\n",
      "Validation score: 0.841335\n",
      "Iteration 8, loss = 0.35429280\n",
      "Validation score: 0.843448\n",
      "Iteration 9, loss = 0.35424332\n",
      "Validation score: 0.842995\n",
      "Iteration 10, loss = 0.35374086\n",
      "Validation score: 0.845109\n",
      "Iteration 11, loss = 0.35234003\n",
      "Validation score: 0.843750\n",
      "Iteration 12, loss = 0.35102758\n",
      "Validation score: 0.839825\n",
      "Iteration 13, loss = 0.35127926\n",
      "Validation score: 0.844052\n",
      "Iteration 14, loss = 0.34974176\n",
      "Validation score: 0.836353\n",
      "Iteration 15, loss = 0.34936159\n",
      "Validation score: 0.846618\n",
      "Iteration 16, loss = 0.35015283\n",
      "Validation score: 0.838164\n",
      "Iteration 17, loss = 0.34893291\n",
      "Validation score: 0.842844\n",
      "Iteration 18, loss = 0.34752526\n",
      "Validation score: 0.845562\n",
      "Iteration 19, loss = 0.34839437\n",
      "Validation score: 0.840731\n",
      "Iteration 20, loss = 0.34845978\n",
      "Validation score: 0.836504\n",
      "Iteration 21, loss = 0.34658309\n",
      "Validation score: 0.841184\n",
      "Iteration 22, loss = 0.34718401\n",
      "Validation score: 0.843297\n",
      "Iteration 23, loss = 0.34614403\n",
      "Validation score: 0.844505\n",
      "Iteration 24, loss = 0.34640582\n",
      "Validation score: 0.844656\n",
      "Iteration 25, loss = 0.34603316\n",
      "Validation score: 0.843901\n",
      "Iteration 26, loss = 0.34540320\n",
      "Validation score: 0.842391\n",
      "Validation score did not improve more than tol=0.000100 for 10 consecutive epochs. Stopping.\n"
     ]
    }
   ],
   "source": [
    "from sklearn.neural_network import MLPClassifier\n",
    "mlpClf = MLPClassifier(\n",
    "    verbose=True,\n",
    "    early_stopping=True,\n",
    ")\n",
    "mlpClf.fit(X_train, y_train) \n",
    "y_pred = clf.predict(X_test) "
   ]
  },
  {
   "cell_type": "code",
   "execution_count": null,
   "metadata": {},
   "outputs": [
    {
     "data": {
      "image/png": "[encoded data removed]",
      "text/plain": [
       "<Figure size 432x288 with 1 Axes>"
      ]
     },
     "metadata": {
      "needs_background": "light"
     },
     "output_type": "display_data"
    },
    {
     "name": "stdout",
     "output_type": "stream",
     "text": [
      "AUC: 0.8638467580975467\n",
      "None\n",
      "85.44154426010074\n"
     ]
    },
    {
     "data": {
      "text/plain": [
       "0.5913989125061789"
      ]
     },
     "execution_count": 273,
     "metadata": {},
     "output_type": "execute_result"
    }
   ],
   "source": [
    "print(evaluate_performance(mlpClf,X_test,y_test))\n",
    "print(accuracy_score(y_test,y_pred) * 100)\n",
    "f1_score(y_test,y_pred)"
   ]
  },
  {
   "cell_type": "markdown",
   "metadata": {},
   "source": [
    "# Hyperparameter tuning"
   ]
  },
  {
   "cell_type": "code",
   "execution_count": null,
   "metadata": {},
   "outputs": [],
   "source": [
    "from sklearn.neural_network import MLPClassifier\n",
    "mlpClf = MLPClassifier()\n",
    "parameter_space = {\n",
    "    'hidden_layer_sizes': [( 50,100,50), (100,)],\n",
    "    'activation': ['tanh', 'relu'],\n",
    "    'solver': ['sgd', 'adam','lbfgs'],\n",
    "    'alpha': [0.0001, 0.05],\n",
    "    'learning_rate': ['constant','adaptive'],\n",
    "}\n",
    "tuned_mlpClf = GridSearchCV(mlpClf, parameter_space, n_jobs=-1, cv=3)\n",
    "tuned_mlpClf.fit(X_train, y_train) \n",
    "y_pred = tuned_mlpClf.predict(X_test) \n",
    "\n"
   ]
  },
  {
   "cell_type": "code",
   "execution_count": null,
   "metadata": {},
   "outputs": [
    {
     "data": {
      "image/png": "[encoded data removed]",
      "text/plain": [
       "<Figure size 432x288 with 1 Axes>"
      ]
     },
     "metadata": {
      "needs_background": "light"
     },
     "output_type": "display_data"
    },
    {
     "name": "stdout",
     "output_type": "stream",
     "text": [
      "AUC: 0.8712571906962986\n",
      "None\n",
      "85.56130895769488\n"
     ]
    },
    {
     "data": {
      "text/plain": [
       "0.5937159282386757"
      ]
     },
     "execution_count": 278,
     "metadata": {},
     "output_type": "execute_result"
    }
   ],
   "source": [
    "print(evaluate_performance(tuned_mlpClf,X_test,y_test))\n",
    "print(accuracy_score(y_test,y_pred) * 100)\n",
    "f1_score(y_test,y_pred)"
   ]
  },
  {
   "cell_type": "code",
   "execution_count": null,
   "metadata": {},
   "outputs": [
    {
     "data": {
      "text/plain": [
       "{'activation': 'tanh',\n",
       " 'alpha': 0.05,\n",
       " 'hidden_layer_sizes': (100,),\n",
       " 'learning_rate': 'constant',\n",
       " 'solver': 'adam'}"
      ]
     },
     "execution_count": 285,
     "metadata": {},
     "output_type": "execute_result"
    }
   ],
   "source": [
    "tuned_mlpClf.best_params_"
   ]
  },
  {
   "cell_type": "markdown",
   "metadata": {},
   "source": [
    "# Predict the unknown dataset"
   ]
  },
  {
   "cell_type": "code",
   "execution_count": null,
   "metadata": {},
   "outputs": [],
   "source": [
    "prediction = tuned_mlpClf.predict(unknownDataset.loc[:,unknownDataset.columns!='row ID'])\n",
    "\n",
    "predicted_values = pd.DataFrame(prediction,columns = ['Predict-RainTomorrow'], index=unknownDataset[\"row ID\"])\n"
   ]
  },
  {
   "cell_type": "code",
   "execution_count": null,
   "metadata": {},
   "outputs": [
    {
     "data": {
      "text/html": [
       "<div>\n",
       "<style scoped>\n",
       "    .dataframe tbody tr th:only-of-type {\n",
       "        vertical-align: middle;\n",
       "    }\n",
       "\n",
       "    .dataframe tbody tr th {\n",
       "        vertical-align: top;\n",
       "    }\n",
       "\n",
       "    .dataframe thead th {\n",
       "        text-align: right;\n",
       "    }\n",
       "</style>\n",
       "<table border=\"1\" class=\"dataframe\">\n",
       "  <thead>\n",
       "    <tr style=\"text-align: right;\">\n",
       "      <th></th>\n",
       "      <th>Predict-RainTomorrow</th>\n",
       "    </tr>\n",
       "    <tr>\n",
       "      <th>row ID</th>\n",
       "      <th></th>\n",
       "    </tr>\n",
       "  </thead>\n",
       "  <tbody>\n",
       "    <tr>\n",
       "      <th>Row0</th>\n",
       "      <td>0</td>\n",
       "    </tr>\n",
       "    <tr>\n",
       "      <th>Row1</th>\n",
       "      <td>0</td>\n",
       "    </tr>\n",
       "    <tr>\n",
       "      <th>Row2</th>\n",
       "      <td>0</td>\n",
       "    </tr>\n",
       "    <tr>\n",
       "      <th>Row3</th>\n",
       "      <td>0</td>\n",
       "    </tr>\n",
       "    <tr>\n",
       "      <th>Row4</th>\n",
       "      <td>1</td>\n",
       "    </tr>\n",
       "  </tbody>\n",
       "</table>\n",
       "</div>"
      ],
      "text/plain": [
       "        Predict-RainTomorrow\n",
       "row ID                      \n",
       "Row0                       0\n",
       "Row1                       0\n",
       "Row2                       0\n",
       "Row3                       0\n",
       "Row4                       1"
      ]
     },
     "execution_count": 283,
     "metadata": {},
     "output_type": "execute_result"
    }
   ],
   "source": [
    "predicted_values.head()"
   ]
  },
  {
   "cell_type": "markdown",
   "metadata": {},
   "source": [
    "# Export to CSV"
   ]
  },
  {
   "cell_type": "code",
   "execution_count": null,
   "metadata": {},
   "outputs": [],
   "source": [
    "predicted_values.to_csv(\"./13717335.csv\",index=True) "
   ]
  },
  {
   "cell_type": "code",
   "execution_count": null,
   "metadata": {},
   "outputs": [],
   "source": []
  }
 ],
 "metadata": {
  "interpreter": {
   "hash": "2ee7657cf01d0129a35cce257c8b95ffde9406942c99bc8cb798ba9f27544e27"
  },
  "kernelspec": {
   "display_name": "Python 3.8.8 64-bit ('base': conda)",
   "name": "python3"
  },
  "language_info": {
   "codemirror_mode": {
    "name": "ipython",
    "version": 3
   },
   "file_extension": ".py",
   "mimetype": "text/x-python",
   "name": "python",
   "nbconvert_exporter": "python",
   "pygments_lexer": "ipython3",
   "version": "3.8.8"
  },
  "orig_nbformat": 4
 },
 "nbformat": 4,
 "nbformat_minor": 2
}
